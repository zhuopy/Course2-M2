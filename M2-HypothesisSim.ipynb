{
 "cells": [
  {
   "cell_type": "markdown",
   "metadata": {},
   "source": [
    "# M2 - Hypothesis Simulation \n",
    "\n",
    "## Author -\n"
   ]
  },
  {
   "cell_type": "markdown",
   "metadata": {},
   "source": [
    "## Instructions\n",
    "Use the <a href=\"https://archive.ics.uci.edu/ml/datasets/Automobile\">automotive data set</a> to perform the following:\n",
    "\n",
    "1. Identify a likely distribution for price and several other features.\n",
    "2. Compute basic summary statistics by both classical, bootstrap, and Bayesian methods\n",
    "3. Compute confidence intervals for these summary statistics by classical, bootstrap, and Bayesian methods\n",
    "4. Correctly use hypothesis tests to determine if the differences in pairs and multiple populations are significant:\n",
    "            Classical tests\n",
    "            Tukey’s Honest Significant Differences (HSD)\n",
    "            Bootstrap methods\n",
    "            Bayesian model\n"
   ]
  },
  {
   "cell_type": "markdown",
   "metadata": {},
   "source": [
    "\n",
    "\n",
    "### Note\n",
    "Please clearly outline the resultms with markdown text. Be sure your discussion includes narrative for your figures and tables so it is clear to the reader the importance of each bit of evidence.\n",
    "\n",
    "### Note: since we are using the same dataset for L5 and M02, so I choose different features to analyze"
   ]
  },
  {
   "cell_type": "code",
   "execution_count": 1,
   "metadata": {},
   "outputs": [],
   "source": [
    "fileName = \"https://library.startlearninglabs.uw.edu/DATASCI410/Datasets/Automobile%20price%20data%20_Raw_.csv\""
   ]
  },
  {
   "cell_type": "code",
   "execution_count": 2,
   "metadata": {},
   "outputs": [],
   "source": [
    "# Import libraries\n",
    "import pandas as pd\n",
    "import numpy as np\n",
    "import matplotlib.pyplot as plt\n",
    "from sklearn.preprocessing import scale\n",
    "import numpy.random as nr\n",
    "import scipy.stats as ss\n",
    "import statsmodels.api as sm\n",
    "from scipy.optimize import curve_fit\n",
    "from scipy.integrate import quad\n",
    "import scipy\n",
    "%matplotlib inline"
   ]
  },
  {
   "cell_type": "code",
   "execution_count": 3,
   "metadata": {},
   "outputs": [],
   "source": [
    "#read data\n",
    "df = pd.read_csv(fileName)"
   ]
  },
  {
   "cell_type": "code",
   "execution_count": 4,
   "metadata": {},
   "outputs": [
    {
     "data": {
      "text/html": [
       "<div>\n",
       "<style scoped>\n",
       "    .dataframe tbody tr th:only-of-type {\n",
       "        vertical-align: middle;\n",
       "    }\n",
       "\n",
       "    .dataframe tbody tr th {\n",
       "        vertical-align: top;\n",
       "    }\n",
       "\n",
       "    .dataframe thead th {\n",
       "        text-align: right;\n",
       "    }\n",
       "</style>\n",
       "<table border=\"1\" class=\"dataframe\">\n",
       "  <thead>\n",
       "    <tr style=\"text-align: right;\">\n",
       "      <th></th>\n",
       "      <th>symboling</th>\n",
       "      <th>normalized-losses</th>\n",
       "      <th>make</th>\n",
       "      <th>fuel-type</th>\n",
       "      <th>aspiration</th>\n",
       "      <th>num-of-doors</th>\n",
       "      <th>body-style</th>\n",
       "      <th>drive-wheels</th>\n",
       "      <th>engine-location</th>\n",
       "      <th>wheel-base</th>\n",
       "    </tr>\n",
       "  </thead>\n",
       "  <tbody>\n",
       "    <tr>\n",
       "      <th>0</th>\n",
       "      <td>3</td>\n",
       "      <td>?</td>\n",
       "      <td>alfa-romero</td>\n",
       "      <td>gas</td>\n",
       "      <td>std</td>\n",
       "      <td>two</td>\n",
       "      <td>convertible</td>\n",
       "      <td>rwd</td>\n",
       "      <td>front</td>\n",
       "      <td>88.6</td>\n",
       "    </tr>\n",
       "    <tr>\n",
       "      <th>1</th>\n",
       "      <td>3</td>\n",
       "      <td>?</td>\n",
       "      <td>alfa-romero</td>\n",
       "      <td>gas</td>\n",
       "      <td>std</td>\n",
       "      <td>two</td>\n",
       "      <td>convertible</td>\n",
       "      <td>rwd</td>\n",
       "      <td>front</td>\n",
       "      <td>88.6</td>\n",
       "    </tr>\n",
       "    <tr>\n",
       "      <th>2</th>\n",
       "      <td>1</td>\n",
       "      <td>?</td>\n",
       "      <td>alfa-romero</td>\n",
       "      <td>gas</td>\n",
       "      <td>std</td>\n",
       "      <td>two</td>\n",
       "      <td>hatchback</td>\n",
       "      <td>rwd</td>\n",
       "      <td>front</td>\n",
       "      <td>94.5</td>\n",
       "    </tr>\n",
       "    <tr>\n",
       "      <th>3</th>\n",
       "      <td>2</td>\n",
       "      <td>164</td>\n",
       "      <td>audi</td>\n",
       "      <td>gas</td>\n",
       "      <td>std</td>\n",
       "      <td>four</td>\n",
       "      <td>sedan</td>\n",
       "      <td>fwd</td>\n",
       "      <td>front</td>\n",
       "      <td>99.8</td>\n",
       "    </tr>\n",
       "    <tr>\n",
       "      <th>4</th>\n",
       "      <td>2</td>\n",
       "      <td>164</td>\n",
       "      <td>audi</td>\n",
       "      <td>gas</td>\n",
       "      <td>std</td>\n",
       "      <td>four</td>\n",
       "      <td>sedan</td>\n",
       "      <td>4wd</td>\n",
       "      <td>front</td>\n",
       "      <td>99.4</td>\n",
       "    </tr>\n",
       "  </tbody>\n",
       "</table>\n",
       "</div>"
      ],
      "text/plain": [
       "   symboling normalized-losses         make fuel-type aspiration num-of-doors  \\\n",
       "0          3                 ?  alfa-romero       gas        std          two   \n",
       "1          3                 ?  alfa-romero       gas        std          two   \n",
       "2          1                 ?  alfa-romero       gas        std          two   \n",
       "3          2               164         audi       gas        std         four   \n",
       "4          2               164         audi       gas        std         four   \n",
       "\n",
       "    body-style drive-wheels engine-location  wheel-base  \n",
       "0  convertible          rwd           front        88.6  \n",
       "1  convertible          rwd           front        88.6  \n",
       "2    hatchback          rwd           front        94.5  \n",
       "3        sedan          fwd           front        99.8  \n",
       "4        sedan          4wd           front        99.4  "
      ]
     },
     "execution_count": 4,
     "metadata": {},
     "output_type": "execute_result"
    }
   ],
   "source": [
    "df.iloc[::,0:10].head()"
   ]
  },
  {
   "cell_type": "markdown",
   "metadata": {},
   "source": [
    "View the first ten columns to get a sense what data look like. And we can see that there are missing values, labeled as \"?\""
   ]
  },
  {
   "cell_type": "code",
   "execution_count": 5,
   "metadata": {},
   "outputs": [
    {
     "data": {
      "text/plain": [
       "symboling              int64\n",
       "normalized-losses     object\n",
       "make                  object\n",
       "fuel-type             object\n",
       "aspiration            object\n",
       "num-of-doors          object\n",
       "body-style            object\n",
       "drive-wheels          object\n",
       "engine-location       object\n",
       "wheel-base           float64\n",
       "length               float64\n",
       "width                float64\n",
       "height               float64\n",
       "curb-weight            int64\n",
       "engine-type           object\n",
       "num-of-cylinders      object\n",
       "engine-size            int64\n",
       "fuel-system           object\n",
       "bore                  object\n",
       "stroke                object\n",
       "compression-ratio    float64\n",
       "horsepower            object\n",
       "peak-rpm              object\n",
       "city-mpg               int64\n",
       "highway-mpg            int64\n",
       "price                 object\n",
       "dtype: object"
      ]
     },
     "execution_count": 5,
     "metadata": {},
     "output_type": "execute_result"
    }
   ],
   "source": [
    "df.dtypes"
   ]
  },
  {
   "cell_type": "markdown",
   "metadata": {},
   "source": [
    "Check out all features the data set hav, and their data types"
   ]
  },
  {
   "cell_type": "markdown",
   "metadata": {},
   "source": [
    "### 1. Identify a likely distribution for price and several other features. For example, you should determine if the price is better represented by the log of price."
   ]
  },
  {
   "cell_type": "markdown",
   "metadata": {},
   "source": [
    "#### Let's study the distribution of price first."
   ]
  },
  {
   "cell_type": "code",
   "execution_count": 6,
   "metadata": {},
   "outputs": [],
   "source": [
    "#using to_numeric to convert dtype to numberic type\n",
    "df['price'] = pd.to_numeric(df['price'], errors='coerce')\n",
    "\n",
    "#if they are missing values, remove the missing values of\n",
    "df.dropna(inplace=True)\n",
    "\n",
    "#create log price\n",
    "df['log price'] = np.log(df['price'])"
   ]
  },
  {
   "cell_type": "code",
   "execution_count": 7,
   "metadata": {},
   "outputs": [
    {
     "data": {
      "image/png": "[encoded data removed]",
      "text/plain": [
       "<Figure size 432x432 with 2 Axes>"
      ]
     },
     "metadata": {
      "needs_background": "light"
     },
     "output_type": "display_data"
    }
   ],
   "source": [
    "def qq_plot(vec1, vec2):\n",
    "    import scipy.stats as ss\n",
    "    plt.figure(figsize=(6, 6)).gca() # define axis\n",
    "    ax1 = plt.subplot(221) ## setup the left subplot\n",
    "    ss.probplot(vec1, plot = ax1) ## Plot the left subplot\n",
    "    ax1 = plt.subplot(222) ## Set up the right subplot\n",
    "    ss.probplot(vec2, plot = ax1) ## Plot the right subplot\n",
    "    \n",
    "qq_plot(df['price'],df['log price'])"
   ]
  },
  {
   "cell_type": "markdown",
   "metadata": {},
   "source": [
    "Q-Q plots for price(left) and log price(right) are shown above. By eyes, log price is more straight than price, suggesting that log price could be more approaching normal than price.\n",
    "\n",
    "\n",
    "We need to do a further test to evaluate that. K-S test could be used.And we need to standardized samples before applying the K-S test."
   ]
  },
  {
   "cell_type": "code",
   "execution_count": 8,
   "metadata": {},
   "outputs": [],
   "source": [
    "#standardize both price and log price\n",
    "n_p = scale(df['price'])\n",
    "n_lp = scale(df['log price'])"
   ]
  },
  {
   "cell_type": "code",
   "execution_count": 9,
   "metadata": {},
   "outputs": [
    {
     "name": "stdout",
     "output_type": "stream",
     "text": [
      "KS-statistic for price = 0.1542761480184771\n",
      "P-value for price= 0.00012108611006800808\n"
     ]
    }
   ],
   "source": [
    "def ks_test(dat, name, dist = 'norm'):\n",
    "    from scipy.stats import kstest \n",
    "    ks_statisic, pvalue = kstest(dat, dist)\n",
    "    print('KS-statistic for '+ name + ' = ' + str(ks_statisic))\n",
    "    print('P-value for ' + name + '= ' + str(pvalue))\n",
    "    \n",
    "ks_test(n_p, 'price')    "
   ]
  },
  {
   "cell_type": "code",
   "execution_count": 10,
   "metadata": {},
   "outputs": [
    {
     "name": "stdout",
     "output_type": "stream",
     "text": [
      "KS-statistic for log price = 0.09781904713791056\n",
      "P-value for log price= 0.03984598613097214\n"
     ]
    }
   ],
   "source": [
    "ks_test(n_lp, 'log price')   "
   ]
  },
  {
   "cell_type": "markdown",
   "metadata": {},
   "source": [
    "Based on the statitics, both p-values smaller than the classic 0.05 threshold, suggesting we can reject the null hypothesis in both cases. If we set threshold alpha smaller, like 1%. In this case, we cannot reject the hypothesis for log price, suggesting that log price has no difference to normal distribution. Thus, log price can be better represented as a normal distribution."
   ]
  },
  {
   "cell_type": "markdown",
   "metadata": {},
   "source": [
    "### Next, study the distribution of other numberical featueres."
   ]
  },
  {
   "cell_type": "markdown",
   "metadata": {},
   "source": [
    "### First, study the distribution of stroke."
   ]
  },
  {
   "cell_type": "code",
   "execution_count": 11,
   "metadata": {},
   "outputs": [],
   "source": [
    "#using to_numeric to convert dtype to numberic type\n",
    "df['stroke'] = pd.to_numeric(df['stroke'], errors='coerce')\n",
    "\n",
    "#if they are missing values, remove the missing values of\n",
    "df.dropna(inplace=True)"
   ]
  },
  {
   "cell_type": "code",
   "execution_count": 12,
   "metadata": {},
   "outputs": [
    {
     "data": {
      "image/png": "[encoded data removed]",
      "text/plain": [
       "<Figure size 432x432 with 2 Axes>"
      ]
     },
     "metadata": {
      "needs_background": "light"
     },
     "output_type": "display_data"
    }
   ],
   "source": [
    "df['log stroke'] = np.log(df['stroke'])\n",
    "qq_plot(df['stroke'],df['log stroke'])"
   ]
  },
  {
   "cell_type": "markdown",
   "metadata": {},
   "source": [
    "Q-Q plots for stroke(left) and log stroke(right) are shown above. By eyes, stroke is more straight than log stroke, suggesting that stroke could be more approaching normal than log stroke.\n",
    "\n",
    "We need to do a further test to evaluate that. K-S test could be used.And we need to standardized samples before applying the K-S test.\n",
    "\n",
    "The null hypothesis for K-S test is two distributions have no differece.With p-value greater than threshold (0.05) suggesting that we cannot reject hypothesis, so there is no difference between two samples."
   ]
  },
  {
   "cell_type": "code",
   "execution_count": 13,
   "metadata": {},
   "outputs": [
    {
     "name": "stdout",
     "output_type": "stream",
     "text": [
      "KS-statistic for stroke = 0.11623896681180132\n",
      "P-value for stroke= 0.00893115252806974\n",
      "\n",
      "\n",
      "KS-statistic for log stroke = 0.13634432672905863\n",
      "P-value for log stroke= 0.0011769694539608064\n"
     ]
    }
   ],
   "source": [
    "#standardize both price and log price\n",
    "n_s = scale(df['stroke'])\n",
    "n_ls = scale(df['log stroke'])\n",
    "ks_test(n_s, 'stroke')\n",
    "print('\\n')\n",
    "ks_test(n_ls, 'log stroke')"
   ]
  },
  {
   "cell_type": "markdown",
   "metadata": {},
   "source": [
    "Based on the statitics, both p-values smaller than the classic 0.05 threshold, suggesting we can reject the null hypothesis in both cases, implying that both samples are different than normal distribution. \n",
    "\n",
    "If we set threshold alpha smaller, like 0.1%. In this case, we cannot reject the hypothesis for stroke, suggesting that stroke has no difference to normal distribution. Thus, stroke can be better represented as a normal distribution."
   ]
  },
  {
   "cell_type": "markdown",
   "metadata": {},
   "source": [
    "### Then study the distribution of  wheel-base."
   ]
  },
  {
   "cell_type": "code",
   "execution_count": 14,
   "metadata": {},
   "outputs": [
    {
     "data": {
      "image/png": "[encoded data removed]",
      "text/plain": [
       "<Figure size 432x432 with 2 Axes>"
      ]
     },
     "metadata": {
      "needs_background": "light"
     },
     "output_type": "display_data"
    }
   ],
   "source": [
    "df['log wheel-base'] = np.log(df['wheel-base'])\n",
    "qq_plot(df['wheel-base'],df['log wheel-base'])"
   ]
  },
  {
   "cell_type": "markdown",
   "metadata": {},
   "source": [
    "Q-Q plots for wheel-base(left) and log wheel-base(right) are shown above. By eyes, wheel-base is more straight than log wheel-base, suggesting that wheel-base could be more approaching normal than log wheel-base.\n",
    "\n",
    "We need to do a further test to evaluate that. K-S test could be used.And we need to standardized samples before applying the K-S test.\n",
    "\n",
    "The null hypothesis for K-S test is two distributions have no differece.With p-value greater than threshold (0.05) suggesting that we cannot reject hypothesis, so there is no difference between two samples."
   ]
  },
  {
   "cell_type": "code",
   "execution_count": 15,
   "metadata": {},
   "outputs": [
    {
     "name": "stdout",
     "output_type": "stream",
     "text": [
      "KS-statistic for wheel-base = 0.1700952463430634\n",
      "P-value for wheel-base= 1.879437282001795e-05\n",
      "\n",
      "\n",
      "KS-statistic for wheel-base = 0.16168984354632226\n",
      "P-value for wheel-base= 5.742954428874821e-05\n"
     ]
    }
   ],
   "source": [
    "#standardize both price and log price\n",
    "n_w = scale(df['wheel-base'])\n",
    "n_lw = scale(df['log wheel-base'])\n",
    "ks_test(n_w, 'wheel-base')\n",
    "print('\\n')\n",
    "ks_test(n_lw, 'wheel-base')"
   ]
  },
  {
   "cell_type": "markdown",
   "metadata": {},
   "source": [
    "Based on the statitics, both p-values smaller than the classic 0.05 threshold, suggesting we can reject the null hypothesis in both cases, implying that both samples are different than normal distribution.\n",
    "\n",
    "If we set threshold alpha much smaller, or look at larger-value. The larger p-value is, it is more likely we cannot reject the null hypothesis, that means it has no difference to normal distribution. \n",
    "\n",
    "In this case, log wheel-base has larger p-value, we cannot reject the hypothesis, suggesting that log wheel-base has no difference to normal distribution. Thus, log wheel-base can be better represented as a normal distribution."
   ]
  },
  {
   "cell_type": "markdown",
   "metadata": {},
   "source": [
    "### Then study the distribution of compression-ratio"
   ]
  },
  {
   "cell_type": "code",
   "execution_count": 16,
   "metadata": {},
   "outputs": [
    {
     "data": {
      "image/png": "[encoded data removed]",
      "text/plain": [
       "<Figure size 432x432 with 2 Axes>"
      ]
     },
     "metadata": {
      "needs_background": "light"
     },
     "output_type": "display_data"
    }
   ],
   "source": [
    "df['log compression-ratio'] = np.log(df['compression-ratio'])\n",
    "qq_plot(df['compression-ratio'],df['log compression-ratio'])"
   ]
  },
  {
   "cell_type": "markdown",
   "metadata": {},
   "source": [
    "Q-Q plots for compression-ratio(left) and log compression-ratio(right) are shown above. By eyes, both are not stragiht. But log compression-ratioi is more straight than compression-ratio, suggesting that log compression-ratio could be more approaching normal than compression-ratio.\n",
    "\n",
    "We need to do a further test to evaluate that. K-S test could be used.And we need to standardized samples before applying the K-S test.\n",
    "\n",
    "The null hypothesis for K-S test is two distributions have no differece.With p-value greater than threshold (0.05) suggesting that we cannot reject hypothesis, so there is no difference between two samples."
   ]
  },
  {
   "cell_type": "code",
   "execution_count": 17,
   "metadata": {},
   "outputs": [
    {
     "name": "stdout",
     "output_type": "stream",
     "text": [
      "KS-statistic for compression-ratio = 0.43531695986076147\n",
      "P-value for compression-ratio= 1.8092503401506387e-34\n",
      "\n",
      "\n",
      "KS-statistic for compression-ratio = 0.38887259972608884\n",
      "P-value for compression-ratio= 2.4606392047262115e-27\n"
     ]
    }
   ],
   "source": [
    "#standardize both price and log price\n",
    "n_c = scale(df['compression-ratio'])\n",
    "n_lc = scale(df['log compression-ratio'])\n",
    "ks_test(n_c, 'compression-ratio')\n",
    "print('\\n')\n",
    "ks_test(n_lc, 'compression-ratio')"
   ]
  },
  {
   "cell_type": "markdown",
   "metadata": {},
   "source": [
    "Based on the statitics, both p-values smaller than the classic 0.05 threshold, suggesting we can reject the null hypothesis in both cases, implying that both samples are different than normal distribution.\n",
    "\n",
    "If we set threshold alpha much smaller, or look at larger-value. The larger p-value is, it is more likely we cannot reject the null hypothesis, that means it has no difference to normal distribution.\n",
    "\n",
    "In this case, log compression-ratio has larger p-value, we cannot reject the hypothesis, suggesting that log compression-ratio has no difference to normal distribution. Thus, log compression-ratio can be better represented as a normal distribution."
   ]
  },
  {
   "cell_type": "markdown",
   "metadata": {},
   "source": [
    "### 2. Compute basic summary statistic of the mean by both classical bootstrap and Bayesian methods"
   ]
  },
  {
   "cell_type": "markdown",
   "metadata": {},
   "source": [
    "##### Let's do bootstrp mean.\n",
    "Stroke is choosen to perform the analysis.\n",
    "\n",
    "In above analysis,  stroke can be better represented as a normal distribution."
   ]
  },
  {
   "cell_type": "code",
   "execution_count": 18,
   "metadata": {},
   "outputs": [
    {
     "data": {
      "text/html": [
       "<div>\n",
       "<style scoped>\n",
       "    .dataframe tbody tr th:only-of-type {\n",
       "        vertical-align: middle;\n",
       "    }\n",
       "\n",
       "    .dataframe tbody tr th {\n",
       "        vertical-align: top;\n",
       "    }\n",
       "\n",
       "    .dataframe thead th {\n",
       "        text-align: right;\n",
       "    }\n",
       "</style>\n",
       "<table border=\"1\" class=\"dataframe\">\n",
       "  <thead>\n",
       "    <tr style=\"text-align: right;\">\n",
       "      <th></th>\n",
       "      <th>stroke mean</th>\n",
       "    </tr>\n",
       "  </thead>\n",
       "  <tbody>\n",
       "    <tr>\n",
       "      <th>0</th>\n",
       "      <td>3.3</td>\n",
       "    </tr>\n",
       "  </tbody>\n",
       "</table>\n",
       "</div>"
      ],
      "text/plain": [
       "   stroke mean\n",
       "0          3.3"
      ]
     },
     "execution_count": 18,
     "metadata": {},
     "output_type": "execute_result"
    }
   ],
   "source": [
    "# boostrap sample\n",
    "bstrap = df.sample(frac = 1, replace=True)\n",
    "#calculate the mean of boostrap sample\n",
    "stroke = bstrap['stroke'].mean()\n",
    "bstrap_sum = pd.DataFrame({ 'stroke mean':[stroke]})\n",
    "bstrap_sum.round(2)"
   ]
  },
  {
   "cell_type": "markdown",
   "metadata": {},
   "source": [
    "Stroke mean is estimated usign Boostrap method, to be 3.27"
   ]
  },
  {
   "cell_type": "markdown",
   "metadata": {},
   "source": [
    "##### Compute the mean using Bayesian method.\n",
    "To perform this analysis, we need to select a prior distribution and compute the likelihood. First, we will address the likelihood.\n",
    "\n",
    "For features I selected, stroke I will use Normal likelihood, that means my prior probability would be normal as well."
   ]
  },
  {
   "cell_type": "markdown",
   "metadata": {},
   "source": [
    "##### Mean for stroke in Bayesian method"
   ]
  },
  {
   "cell_type": "code",
   "execution_count": 19,
   "metadata": {},
   "outputs": [
    {
     "data": {
      "image/png": "[encoded data removed]",
      "text/plain": [
       "<Figure size 432x288 with 1 Axes>"
      ]
     },
     "metadata": {
      "needs_background": "light"
     },
     "output_type": "display_data"
    }
   ],
   "source": [
    "N = 1000\n",
    "p = np.linspace(3, 3.5, num=N)\n",
    "\n",
    "pp = ss.norm.pdf(p, loc=df['stroke'].mean(), scale=1)\n",
    "pp = pp / pp.sum() # normalize\n",
    "\n",
    "def posterior(prior, like):\n",
    "    post = prior * like # compute the product of the probabilities\n",
    "    return post / sum(post) # normalize the distribution to sum to unity\n",
    "\n",
    "def comp_like(p, x): \n",
    "    variance = np.std(x)**2 # sigmasqr\n",
    "    x_mean = np.asarray(x).mean()  # xbar\n",
    "#     print('Mean = %.3f, Standard deviation = %.3f' % (x_mean, np.std(x)))\n",
    "    n = len(x)\n",
    "    l = np.exp(-n * np.square(x_mean - p) / (2 * variance))\n",
    "    return l / l.sum()\n",
    "\n",
    "like_stroke = comp_like(p, df['stroke'])\n",
    "post_stroke= posterior(pp, like_stroke)\n",
    "\n",
    "# plotting the prior, likelihood and posterior distribution\n",
    "plt.plot(p, pp, label='prior')\n",
    "plt.plot(p, like_stroke, label='likelihood', alpha=.3, linewidth=10)\n",
    "plt.plot(p, post_stroke, label='posterior')\n",
    "plt.title('Stroke')\n",
    "plt.legend();"
   ]
  },
  {
   "cell_type": "markdown",
   "metadata": {},
   "source": [
    "Becaues stroke is a discrete random varibale, expectecd  value can be calculated by sum (x*p(X=x)). So the mean of the posterior distribution can be calcualted as below."
   ]
  },
  {
   "cell_type": "code",
   "execution_count": 20,
   "metadata": {},
   "outputs": [
    {
     "name": "stdout",
     "output_type": "stream",
     "text": [
      "Mean for posterior distribution = 3.26\n"
     ]
    }
   ],
   "source": [
    "bayesian_mean = sum(post_stroke * p)\n",
    "print('Mean for posterior distribution = %.2f' % (bayesian_mean))"
   ]
  },
  {
   "cell_type": "markdown",
   "metadata": {},
   "source": [
    "In the log height feature, mean estimated using boostrapping is 3.90, while mean estimated using bayesian is 3.28. They are close to each other. "
   ]
  },
  {
   "cell_type": "markdown",
   "metadata": {},
   "source": [
    "### 3.Compute confidence intervals for the summary statistics by classical bootstrap and Bayesian methods"
   ]
  },
  {
   "cell_type": "code",
   "execution_count": 21,
   "metadata": {},
   "outputs": [],
   "source": [
    "#define a function to compute condifence intervals at 95% confidence interval\n",
    "def ci(x, name):\n",
    "    p = 5\n",
    "    lower = np.percentile(x, p/2.)\n",
    "    upper = np.percentile(x, 100-p/2.)\n",
    "    print(\"Confidence interval for %s is %.2f and %.2f\" % (name, lower, upper))"
   ]
  },
  {
   "cell_type": "code",
   "execution_count": 22,
   "metadata": {},
   "outputs": [
    {
     "name": "stdout",
     "output_type": "stream",
     "text": [
      "Confidence interval for stroke is 2.64 and 3.86\n"
     ]
    }
   ],
   "source": [
    "#compute the confidence interval using classical method\n",
    "ci(df['stroke'], 'stroke')"
   ]
  },
  {
   "cell_type": "code",
   "execution_count": 23,
   "metadata": {},
   "outputs": [
    {
     "name": "stdout",
     "output_type": "stream",
     "text": [
      "Confidence interval for stroke is 2.64 and 3.86\n"
     ]
    }
   ],
   "source": [
    "#compute the confidence interval using boostrap method\n",
    "ci(bstrap['stroke'], 'stroke')"
   ]
  },
  {
   "cell_type": "markdown",
   "metadata": {},
   "source": [
    "Condience intervals for classical and boostrap methods are very close to each other."
   ]
  },
  {
   "cell_type": "code",
   "execution_count": 24,
   "metadata": {},
   "outputs": [
    {
     "name": "stdout",
     "output_type": "stream",
     "text": [
      "The 0.950 credible interval is 3.211 to 3.302\n"
     ]
    },
    {
     "data": {
      "image/png": "[encoded data removed]",
      "text/plain": [
       "<Figure size 432x288 with 1 Axes>"
      ]
     },
     "metadata": {
      "needs_background": "light"
     },
     "output_type": "display_data"
    }
   ],
   "source": [
    "def plot_ci(p, post, num_samples, lower_q, upper_q):\n",
    "    ## This function computes a credible interval using an assumption\n",
    "    ## of symetry in the bulk of the distribution to keep the \n",
    "    ## calculation simple. \n",
    "    ## Compute a large sample by resampling with replacement\n",
    "    from matplotlib import pyplot\n",
    "    samples = np.random.choice(p, size=num_samples, replace=True, p=post)\n",
    "    ci = np.percentile(samples, [lower_q*100, upper_q*100]) # compute the quantiles\n",
    "    \n",
    "    interval = upper_q - lower_q\n",
    "    pyplot.title('Posterior density with %.3f credible interval' % interval)\n",
    "    pyplot.plot(p, post, color='blue')\n",
    "    pyplot.xlabel('Parameter value')\n",
    "    pyplot.ylabel('Density')\n",
    "    pyplot.axvline(x=ci[0], color='red')\n",
    "    pyplot.axvline(x=ci[1], color='red')\n",
    "    print('The %.3f credible interval is %.3f to %.3f' \n",
    "          % (interval, ci[0], ci[1]))\n",
    "    \n",
    "plot_ci(p, post_stroke, N, lower_q=.025, upper_q=.975)"
   ]
  },
  {
   "cell_type": "markdown",
   "metadata": {},
   "source": [
    "Using the classical boostrapping method, the confidence interval for log height is 2.64 and 3.86, while in the Bayesian method, the confidence interval for log height is 3.210 to 3.300. They have overlaps in some ranges."
   ]
  },
  {
   "cell_type": "markdown",
   "metadata": {},
   "source": [
    "### 4.Correctly use hypothesis tests to determine if the differences in pairs and multiple populations are statistically significant. You will continue the analysis that you started in Assignment 04. For each of the groupings you analyzed in Assignment 04, apply the following methods:\n",
    "### 1. Bootstrap methods\n",
    "### 2. Bayesian model\n",
    "\n",
    "### First, do the pairs study first"
   ]
  },
  {
   "cell_type": "markdown",
   "metadata": {},
   "source": [
    "#### Boostrap method Price vs Fuel-type\n"
   ]
  },
  {
   "cell_type": "code",
   "execution_count": 25,
   "metadata": {},
   "outputs": [
    {
     "data": {
      "text/plain": [
       "array(['gas', 'diesel'], dtype=object)"
      ]
     },
     "execution_count": 25,
     "metadata": {},
     "output_type": "execute_result"
    }
   ],
   "source": [
    "df['fuel-type'].unique()"
   ]
  },
  {
   "cell_type": "markdown",
   "metadata": {},
   "source": [
    "Check out what fuel type it has. \n",
    "\n",
    "It has two: gas and diesel"
   ]
  },
  {
   "cell_type": "code",
   "execution_count": 26,
   "metadata": {},
   "outputs": [
    {
     "name": "stdout",
     "output_type": "stream",
     "text": [
      "total diesel smaples: 22\n",
      "total samples: 197\n"
     ]
    }
   ],
   "source": [
    "#create new dataframes for gas and diesel\n",
    "diesel =pd.DataFrame()\n",
    "gas = pd.DataFrame()\n",
    "print ( 'total diesel smaples:' ,sum(bstrap['fuel-type'] == 'diesel'))\n",
    "print('total samples:' ,bstrap.shape[0])"
   ]
  },
  {
   "cell_type": "markdown",
   "metadata": {},
   "source": [
    "Check the sample size for each aspiration, and found that this is an unbalance sample size problem. Solution to this unbalance problem is get the same group size.\n",
    "\n",
    "First, I need to boostrap samples, then I need to randomly pick 23 samples from gas use Bernoulli sampling."
   ]
  },
  {
   "cell_type": "code",
   "execution_count": 27,
   "metadata": {},
   "outputs": [],
   "source": [
    "# put samples into correponding dataframe\n",
    "gas['gas price']=bstrap[bstrap['fuel-type'] == 'gas']['log price']\n",
    "diesel['diesel price']=bstrap[bstrap['fuel-type'] == 'diesel']['log price']\n",
    "\n",
    "\n",
    "#  Bernoulli sampling\n",
    "p = 0.1\n",
    "gas_23 = gas.iloc[nr.choice(range(174), size = int(p * 230)), :]"
   ]
  },
  {
   "cell_type": "code",
   "execution_count": 28,
   "metadata": {},
   "outputs": [
    {
     "data": {
      "image/png": "[encoded data removed]",
      "text/plain": [
       "<Figure size 432x288 with 2 Axes>"
      ]
     },
     "metadata": {
      "needs_background": "light"
     },
     "output_type": "display_data"
    }
   ],
   "source": [
    "def hist_plot(vec, bins):\n",
    "    from statistics import mean\n",
    "    plt.hist(vec, bins = bins)\n",
    "    plt.axvline(mean(vec), color = 'red')\n",
    "#     print(mean(vec))\n",
    "    plt.ylabel('Frequency')\n",
    "    plt.xlabel('Value')\n",
    "    \n",
    "def plot_pop(a, b, cols=['gas', 'diesel'], nbins = 10):\n",
    "    minx = min([min(a), min(b)])\n",
    "    maxx = max([max(a), max(b)])\n",
    "    stepx = (maxx - minx)/(nbins + 1)\n",
    "    bins = [minx + i * stepx for i in range(nbins + 1)]\n",
    "    plt.subplot(2, 1, 1) # The first plot\n",
    "    hist_plot(a, bins)\n",
    "    plt.title('Histograme of ' + cols[0] + ' and ' + cols[1])\n",
    "    plt.subplot(2, 1, 2) # The next plot\n",
    "    hist_plot(b, bins)\n",
    "\n",
    "plot_pop(gas_23['gas price'], diesel['diesel price']) "
   ]
  },
  {
   "cell_type": "markdown",
   "metadata": {},
   "source": [
    "Histogram of log price for gas and diesel look quite different, but with a similar mean values."
   ]
  },
  {
   "cell_type": "code",
   "execution_count": 29,
   "metadata": {},
   "outputs": [
    {
     "data": {
      "text/plain": [
       "DegFreedom    41.089925\n",
       "Difference    -0.485741\n",
       "Statistic     -4.507604\n",
       "PValue         0.000054\n",
       "Low95CI       -0.703354\n",
       "High95CI      -0.268129\n",
       "dtype: float64"
      ]
     },
     "execution_count": 29,
     "metadata": {},
     "output_type": "execute_result"
    }
   ],
   "source": [
    "def t_test(a, b, alpha, alternative='two-sided'):\n",
    "    from scipy import stats\n",
    "    import scipy.stats as ss\n",
    "    import statsmodels.stats.weightstats as ws\n",
    "    \n",
    "    diff = a.mean() - b.mean()\n",
    "\n",
    "    res = ss.ttest_ind(a, b, equal_var=False)\n",
    "      \n",
    "    means = ws.CompareMeans(ws.DescrStatsW(a), ws.DescrStatsW(b))\n",
    "    confint = means.tconfint_diff(alpha=alpha, \n",
    "                                  alternative=alternative, usevar='unequal') \n",
    "    degfree = means.dof_satt()\n",
    "\n",
    "    index = ['DegFreedom', 'Difference', 'Statistic', \n",
    "             'PValue', 'Low95CI', 'High95CI']\n",
    "    return pd.Series([degfree, diff, res[0], res[1],\n",
    "                      confint[0], confint[1]], index = index)   \n",
    "   \n",
    "aspiration = t_test(gas_23['gas price'], diesel['diesel price'],0.05) \n",
    "aspiration"
   ]
  },
  {
   "cell_type": "markdown",
   "metadata": {},
   "source": [
    "From stats (Boostrap method for price vs fuel-type):\n",
    "\n",
    "The t-statistic is small and the p-value is small(alpha = 0.05). Based on these statistics, we can reject the null hypothesis that log price for gas car is different than diesel car."
   ]
  },
  {
   "cell_type": "markdown",
   "metadata": {},
   "source": [
    "#### Bayesian method for Price vs Fuel-type"
   ]
  },
  {
   "cell_type": "code",
   "execution_count": 30,
   "metadata": {},
   "outputs": [],
   "source": [
    "#create std and turbo data frame with log price\n",
    "g =pd.DataFrame()\n",
    "d = pd.DataFrame()\n",
    "g['gas price']=df[df['fuel-type'] == 'gas']['log price']\n",
    "d['diesel price']=df[df['fuel-type'] == 'diesel']['log price']\n",
    "\n",
    "#  Bernoulli sampling, solve unbalanced sample problem\n",
    "p = 0.1\n",
    "g_23 = gas.iloc[nr.choice(range(174), size = int(p * 230)), :]"
   ]
  },
  {
   "cell_type": "code",
   "execution_count": 31,
   "metadata": {},
   "outputs": [],
   "source": [
    "#create a posterior distribution for gas\n",
    "N = 10000\n",
    "p = np.linspace(8, 12, num=N)\n",
    "\n",
    "pp = ss.norm.pdf(p, loc=g_23.mean(), scale=1)\n",
    "pp = pp / pp.sum() # normalize\n",
    "\n",
    "def posterior(prior, like):\n",
    "    post = prior * like # compute the product of the probabilities\n",
    "    return post / sum(post) # normalize the distribution to sum to unity\n",
    "\n",
    "def comp_like(p, x): \n",
    "    variance = np.std(x)**2 # sigmasqr\n",
    "    x_mean = np.asarray(x).mean()  # xbar\n",
    "#     print('Mean = %.3f, Standard deviation = %.3f' % (x_mean, np.std(x)))\n",
    "    n = len(x)\n",
    "    l = np.exp(-n * np.square(x_mean - p) / (2 * variance))\n",
    "    return l / l.sum()\n",
    "\n",
    "like_gas = comp_like(p, g_23['gas price'])\n",
    "post_gas= posterior(pp, like_gas)\n",
    "\n",
    "# plotting the prior, likelihood and posterior distribution\n",
    "# plt.plot(p, pp, label='prior')\n",
    "# plt.plot(p, like_gas, label='likelihood', alpha=.3, linewidth=10)\n",
    "# plt.plot(p, post_gas, label='posterior')\n",
    "# plt.title('Height')\n",
    "# plt.legend();"
   ]
  },
  {
   "cell_type": "code",
   "execution_count": 32,
   "metadata": {},
   "outputs": [],
   "source": [
    "#create a posterior distribution for diesel\n",
    "pp = ss.norm.pdf(p, loc=d.mean(), scale=1)\n",
    "pp = pp / pp.sum() # normalize\n",
    "\n",
    "def posterior(prior, like):\n",
    "    post = prior * like # compute the product of the probabilities\n",
    "    return post / sum(post) # normalize the distribution to sum to unity\n",
    "\n",
    "def comp_like(p, x): \n",
    "    variance = np.std(x)**2 # sigmasqr\n",
    "    x_mean = np.asarray(x).mean()  # xbar\n",
    "#     print('Mean = %.3f, Standard deviation = %.3f' % (x_mean, np.std(x)))\n",
    "    n = len(x)\n",
    "    l = np.exp(-n * np.square(x_mean - p) / (2 * variance))\n",
    "    return l / l.sum()\n",
    "\n",
    "like_diesel = comp_like(p, d['diesel price'])\n",
    "post_diesel= posterior(pp, like_diesel)\n",
    "\n",
    "# # plotting the prior, likelihood and posterior distribution\n",
    "# plt.plot(p, pp, label='prior')\n",
    "# plt.plot(p, like_diesel, label='likelihood', alpha=.3, linewidth=10)\n",
    "# plt.plot(p, post_diesel, label='posterior')\n",
    "# plt.title('Height')\n",
    "# plt.legend();"
   ]
  },
  {
   "cell_type": "markdown",
   "metadata": {},
   "source": [
    "\n",
    "To further study two posterior distribution, I calculate the credible interval of two.\n",
    "\n",
    "First, plot the CI for price of gas"
   ]
  },
  {
   "cell_type": "code",
   "execution_count": 33,
   "metadata": {},
   "outputs": [
    {
     "name": "stdout",
     "output_type": "stream",
     "text": [
      "The 0.950 credible interval is 9.201 to 9.579\n"
     ]
    },
    {
     "data": {
      "image/png": "[encoded data removed]",
      "text/plain": [
       "<Figure size 432x288 with 1 Axes>"
      ]
     },
     "metadata": {
      "needs_background": "light"
     },
     "output_type": "display_data"
    }
   ],
   "source": [
    "plot_ci(p, post_gas, N, lower_q=.025, upper_q=.975)"
   ]
  },
  {
   "cell_type": "markdown",
   "metadata": {},
   "source": [
    "Plot the CI for price of diesel"
   ]
  },
  {
   "cell_type": "code",
   "execution_count": 34,
   "metadata": {},
   "outputs": [
    {
     "name": "stdout",
     "output_type": "stream",
     "text": [
      "The 0.950 credible interval is 9.345 to 9.767\n"
     ]
    },
    {
     "data": {
      "image/png": "[encoded data removed]",
      "text/plain": [
       "<Figure size 432x288 with 1 Axes>"
      ]
     },
     "metadata": {
      "needs_background": "light"
     },
     "output_type": "display_data"
    }
   ],
   "source": [
    "plot_ci(p, post_diesel, N, lower_q=.025, upper_q=.975)"
   ]
  },
  {
   "cell_type": "markdown",
   "metadata": {},
   "source": [
    "From the above credible interval comparsion, CIs have a little overlap, that means price for gas has no  difference to price for diesel cars, combined with boostrapping analysis, such little overlap could be misleading to draw conclusions. "
   ]
  },
  {
   "cell_type": "markdown",
   "metadata": {},
   "source": [
    "## Summary for pairs comparison:\n",
    "Both boostrap and Bayesian methods, combined with L4 classical method, I'd say price for gas is different than diesel car price."
   ]
  },
  {
   "cell_type": "markdown",
   "metadata": {},
   "source": [
    "### Multipopulation\n",
    "\n",
    "#### Boostrap for engine -type analysis"
   ]
  },
  {
   "cell_type": "code",
   "execution_count": 35,
   "metadata": {},
   "outputs": [
    {
     "data": {
      "text/plain": [
       "array(['dohc', 'ohcv', 'ohc', 'l', 'ohcf'], dtype=object)"
      ]
     },
     "execution_count": 35,
     "metadata": {},
     "output_type": "execute_result"
    }
   ],
   "source": [
    "df['engine-type'].unique()"
   ]
  },
  {
   "cell_type": "markdown",
   "metadata": {},
   "source": [
    "Check what inputs are for engine-type. There are five categories, dohc, ohcv, ohc, l and ohcf."
   ]
  },
  {
   "cell_type": "code",
   "execution_count": 36,
   "metadata": {},
   "outputs": [],
   "source": [
    "dohc= pd.DataFrame()\n",
    "ohcv= pd.DataFrame()\n",
    "ohc= pd.DataFrame()\n",
    "l = pd.DataFrame()\n",
    "ohcf = pd.DataFrame()\n",
    "\n",
    "dohc['price']=bstrap[bstrap['engine-type'] == 'dohc']['log price']\n",
    "ohcv['price']=bstrap[bstrap['engine-type'] == 'ohcv']['log price']\n",
    "ohc['price']=bstrap[bstrap['engine-type'] == 'ohc']['log price']\n",
    "l['price']=bstrap[bstrap['engine-type'] == 'l']['log price']\n",
    "ohcf['price']=bstrap[bstrap['engine-type'] == 'ohcf']['log price']"
   ]
  },
  {
   "cell_type": "code",
   "execution_count": 37,
   "metadata": {},
   "outputs": [
    {
     "data": {
      "image/png": "[encoded data removed]",
      "text/plain": [
       "<Figure size 432x288 with 1 Axes>"
      ]
     },
     "metadata": {
      "needs_background": "light"
     },
     "output_type": "display_data"
    }
   ],
   "source": [
    "fig = plt.figure()\n",
    "ax = fig.add_subplot(111)\n",
    "ax.boxplot([dohc['price'], ohcv['price'],ohc['price'],l['price'],ohcf['price']])\n",
    "plt.ylabel('Log Price')\n",
    "ax.set_xticklabels(['dohc', 'ohcv','ohc','l', 'ohcf'], rotation = 'vertical')\n",
    "plt.xlabel('Variable')\n",
    "plt.title('Box plot of engine-type variables');"
   ]
  },
  {
   "cell_type": "markdown",
   "metadata": {},
   "source": [
    "The box plot has large variations within groups"
   ]
  },
  {
   "cell_type": "code",
   "execution_count": 38,
   "metadata": {},
   "outputs": [
    {
     "name": "stdout",
     "output_type": "stream",
     "text": [
      "F statistic = 12.240416661771818\n",
      "P-value = 6.947132815584052e-09\n"
     ]
    }
   ],
   "source": [
    "f_statistic, p_value = ss.f_oneway(dohc['price'], ohcv['price'],ohc['price'],l['price'],ohcf['price'])\n",
    "print('F statistic = ' + str(f_statistic))\n",
    "print('P-value = ' + str(p_value))"
   ]
  },
  {
   "cell_type": "markdown",
   "metadata": {},
   "source": [
    "The F statistic is fairly large and the p-value is very small. We can reject the null hypothesis that the 5 variables have the same mean, as the probability of the differences arising from random chance is quite low.\n",
    "\n",
    "From the above ANOVA results we know that there is some difference in the means of these variables. However, the ANOVA does not tell us which variable is significantly different. So we need to perform HSD test."
   ]
  },
  {
   "cell_type": "code",
   "execution_count": 39,
   "metadata": {},
   "outputs": [
    {
     "name": "stdout",
     "output_type": "stream",
     "text": [
      "Multiple Comparison of Means - Tukey HSD, FWER=0.05 \n",
      "====================================================\n",
      "group1 group2 meandiff p-adj   lower   upper  reject\n",
      "----------------------------------------------------\n",
      "  dohc      l   -0.444  0.128   -0.96  0.0721  False\n",
      "  dohc    ohc  -0.7516  0.001 -1.1792 -0.3241   True\n",
      "  dohc   ohcf  -0.6959 0.0025  -1.212 -0.1799   True\n",
      "  dohc   ohcv   0.0466    0.9 -0.5635  0.6567  False\n",
      "     l    ohc  -0.3077 0.0647 -0.6267  0.0114  False\n",
      "     l   ohcf  -0.2519 0.4917 -0.6824  0.1785  False\n",
      "     l   ohcv   0.4906 0.0939  -0.049  1.0301  False\n",
      "   ohc   ohcf   0.0557    0.9 -0.2633  0.3747  False\n",
      "   ohc   ohcv   0.7982  0.001  0.3426  1.2539   True\n",
      "  ohcf   ohcv   0.7425 0.0019  0.2029  1.2821   True\n",
      "----------------------------------------------------\n"
     ]
    }
   ],
   "source": [
    "from statsmodels.stats.multicomp import pairwise_tukeyhsd\n",
    "df2 = pd.DataFrame({'vals' :dohc['price'].tolist() + \n",
    "                    ohcv['price'].tolist() +\n",
    "                   ohc['price'].tolist() +l['price'].tolist() +\n",
    "                    ohcf['price'].tolist(),\n",
    "                   'group_num': ['dohc'] * len(dohc) + ['ohcv'] * len(ohcv) + \n",
    "                    ['ohc'] * len(ohc) +\n",
    "                   ['l'] * len(l) + ['ohcf'] *len(ohcf) })\n",
    "Tukey_HSD = pairwise_tukeyhsd(df2.vals, df2.group_num)\n",
    "print(Tukey_HSD)"
   ]
  },
  {
   "cell_type": "markdown",
   "metadata": {},
   "source": [
    "From the table, we can see whether there is significant difference based on p-values and the reject column. \"True\" means we\n",
    "reject the null hypoehtisis, there is a difference."
   ]
  },
  {
   "cell_type": "markdown",
   "metadata": {},
   "source": [
    "#### Next, we need to use Bayesian method to compare multipopulations."
   ]
  },
  {
   "cell_type": "code",
   "execution_count": 40,
   "metadata": {},
   "outputs": [],
   "source": [
    "#create std and turbo data frame with log price\n",
    "dohc= pd.DataFrame()\n",
    "ohcv= pd.DataFrame()\n",
    "ohc= pd.DataFrame()\n",
    "l = pd.DataFrame()\n",
    "ohcf = pd.DataFrame()\n",
    "\n",
    "\n",
    "dohc['price']=df[df['engine-type'] == 'dohc']['log price']\n",
    "ohcv['price']=df[df['engine-type'] == 'ohcv']['log price']\n",
    "ohc['price']=df[df['engine-type'] == 'ohc']['log price']\n",
    "l['price']=df[df['engine-type'] == 'l']['log price']\n",
    "ohcf['price']=df[df['engine-type'] == 'ohcf']['log price']"
   ]
  },
  {
   "cell_type": "code",
   "execution_count": 41,
   "metadata": {},
   "outputs": [],
   "source": [
    "#create a posterior distribution for dohc\n",
    "N = 10000\n",
    "p = np.linspace(8, 12, num=N)\n",
    "\n",
    "pp = ss.norm.pdf(p, loc=dohc.mean(), scale=1)\n",
    "pp = pp / pp.sum() # normalize\n",
    "\n",
    "like_dohc = comp_like(p, dohc['price'])\n",
    "post_dohc= posterior(pp, like_dohc)"
   ]
  },
  {
   "cell_type": "code",
   "execution_count": 42,
   "metadata": {},
   "outputs": [],
   "source": [
    "#create a posterior distribution for ohcv\n",
    "pp = ss.norm.pdf(p, loc=ohcv.mean(), scale=1)\n",
    "pp = pp / pp.sum() # normalize\n",
    "\n",
    "like_ohcv = comp_like(p, ohcv['price'])\n",
    "post_ohcv= posterior(pp, like_ohcv)"
   ]
  },
  {
   "cell_type": "code",
   "execution_count": 43,
   "metadata": {},
   "outputs": [],
   "source": [
    "#create a posterior distribution for ohc\n",
    "pp = ss.norm.pdf(p, loc=ohc.mean(), scale=1)\n",
    "pp = pp / pp.sum() # normalize\n",
    "\n",
    "like_ohc = comp_like(p, ohc['price'])\n",
    "post_ohc = posterior(pp, like_ohc)"
   ]
  },
  {
   "cell_type": "code",
   "execution_count": 44,
   "metadata": {},
   "outputs": [],
   "source": [
    "#create a posterior distribution for l\n",
    "pp = ss.norm.pdf(p, loc=l.mean(), scale=1)\n",
    "pp = pp / pp.sum() # normalize\n",
    "\n",
    "like_l= comp_like(p, l['price'])\n",
    "post_l= posterior(pp, like_l)"
   ]
  },
  {
   "cell_type": "code",
   "execution_count": 45,
   "metadata": {},
   "outputs": [],
   "source": [
    "# Create a posterior distribution for ohcf\n",
    "pp = ss.norm.pdf(p, loc=ohcf.mean(), scale=1)\n",
    "pp = pp / pp.sum() # normalize\n",
    "\n",
    "like_ohcf= comp_like(p, ohcf['price'])\n",
    "post_ohcf = posterior(pp, like_ohcf)"
   ]
  },
  {
   "cell_type": "markdown",
   "metadata": {},
   "source": [
    "I'd like to plot CIs for each category further analysis."
   ]
  },
  {
   "cell_type": "code",
   "execution_count": 46,
   "metadata": {},
   "outputs": [
    {
     "name": "stdout",
     "output_type": "stream",
     "text": [
      "The 0.950 credible interval is 9.513 to 9.942\n"
     ]
    },
    {
     "data": {
      "image/png": "[encoded data removed]",
      "text/plain": [
       "<Figure size 432x288 with 1 Axes>"
      ]
     },
     "metadata": {
      "needs_background": "light"
     },
     "output_type": "display_data"
    }
   ],
   "source": [
    "plot_ci(p, post_dohc, N, lower_q=.025, upper_q=.975)"
   ]
  },
  {
   "cell_type": "code",
   "execution_count": 47,
   "metadata": {},
   "outputs": [
    {
     "name": "stdout",
     "output_type": "stream",
     "text": [
      "The 0.950 credible interval is 9.809 to 10.271\n"
     ]
    },
    {
     "data": {
      "image/png": "[encoded data removed]",
      "text/plain": [
       "<Figure size 432x288 with 1 Axes>"
      ]
     },
     "metadata": {
      "needs_background": "light"
     },
     "output_type": "display_data"
    }
   ],
   "source": [
    "plot_ci(p, post_ohcv, N, lower_q=.025, upper_q=.975)"
   ]
  },
  {
   "cell_type": "code",
   "execution_count": 48,
   "metadata": {},
   "outputs": [
    {
     "name": "stdout",
     "output_type": "stream",
     "text": [
      "The 0.950 credible interval is 9.169 to 9.314\n"
     ]
    },
    {
     "data": {
      "image/png": "[encoded data removed]",
      "text/plain": [
       "<Figure size 432x288 with 1 Axes>"
      ]
     },
     "metadata": {
      "needs_background": "light"
     },
     "output_type": "display_data"
    }
   ],
   "source": [
    "plot_ci(p, post_ohc, N, lower_q=.025, upper_q=.975)"
   ]
  },
  {
   "cell_type": "code",
   "execution_count": 49,
   "metadata": {},
   "outputs": [
    {
     "name": "stdout",
     "output_type": "stream",
     "text": [
      "The 0.950 credible interval is 9.359 to 9.733\n"
     ]
    },
    {
     "data": {
      "image/png": "[encoded data removed]",
      "text/plain": [
       "<Figure size 432x288 with 1 Axes>"
      ]
     },
     "metadata": {
      "needs_background": "light"
     },
     "output_type": "display_data"
    }
   ],
   "source": [
    "plot_ci(p, post_l, N, lower_q=.025, upper_q=.975)"
   ]
  },
  {
   "cell_type": "code",
   "execution_count": 50,
   "metadata": {},
   "outputs": [
    {
     "name": "stdout",
     "output_type": "stream",
     "text": [
      "The 0.950 credible interval is 9.007 to 9.602\n"
     ]
    },
    {
     "data": {
      "image/png": "[encoded data removed]",
      "text/plain": [
       "<Figure size 432x288 with 1 Axes>"
      ]
     },
     "metadata": {
      "needs_background": "light"
     },
     "output_type": "display_data"
    }
   ],
   "source": [
    "plot_ci(p, post_ohcf, N, lower_q=.025, upper_q=.975)"
   ]
  },
  {
   "cell_type": "markdown",
   "metadata": {},
   "source": [
    "### Summary for multipopulation Bayesian method\n",
    "dohc:The 0.950 credible interval is 9.519 to 9.941\n",
    "\n",
    "ohcv:The 0.950 credible interval is  9.807 to 10.269\n",
    "\n",
    "ohc:The 0.950 credible interval is 9.168 to 9.314\n",
    "\n",
    "l:The 0.950 credible interval is 9.364 to 9.733\n",
    "\n",
    "ohcf:The 0.950 credible interval is 9.009 to 9.613\n",
    "\n",
    "##### If CIs overlap, implying that there is no significant difference between two categories, vice versa.\n",
    "\n",
    "dohc and l: overlap, no difference \n",
    "\n",
    "dohc and ohc: not overlap, difference\n",
    "\n",
    "dohc and ohcf: overlap, no difference\n",
    "\n",
    "dohc and ohcv: overlap, no difference\n",
    "\n",
    "l and ohc: not overlap, difference\n",
    "\n",
    "l and ohcf:  overlap, no difference\n",
    "\n",
    "l and ohcv: no overlap, difference\n",
    "\n",
    "ohc and ohcf:overlap, no difference\n",
    "\n",
    "ohc and ohcv: not ovelap, difference\n",
    "\n",
    "ohcf and ohcv:overlap, no difference"
   ]
  },
  {
   "cell_type": "markdown",
   "metadata": {},
   "source": [
    "Compared with the boostrapping method, the analysis is quite different.  dohc vs ohcf, l and ohcf, l and ohcv, ohcf and ohcv. This is caused by the randomness of boostrapping sample. "
   ]
  },
  {
   "cell_type": "markdown",
   "metadata": {},
   "source": [
    "## Summary for multipopulation comparisons\n",
    "1. boostrap analysis is the same as Bayesian analysis, except a few pairs, which chould be due to uncertainty of small overlap of CIs.\n",
    "2. classical analysis (L4) agree with boostrapping analysis.\n",
    "3. classical analysis (L4) does not quite agree with Bayesian analysis, This is also due to the small overlap of CIs in Bayesian method bewtween pairs\n"
   ]
  }
 ],
 "metadata": {
  "kernelspec": {
   "display_name": "Python 3",
   "language": "python",
   "name": "python3"
  },
  "language_info": {
   "codemirror_mode": {
    "name": "ipython",
    "version": 3
   },
   "file_extension": ".py",
   "mimetype": "text/x-python",
   "name": "python",
   "nbconvert_exporter": "python",
   "pygments_lexer": "ipython3",
   "version": "3.7.6"
  }
 },
 "nbformat": 4,
 "nbformat_minor": 1
}
